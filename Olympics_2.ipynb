{
 "cells": [
  {
   "cell_type": "code",
   "execution_count": 1,
   "metadata": {
    "scrolled": true
   },
   "outputs": [
    {
     "data": {
      "text/html": [
       "<div>\n",
       "<style scoped>\n",
       "    .dataframe tbody tr th:only-of-type {\n",
       "        vertical-align: middle;\n",
       "    }\n",
       "\n",
       "    .dataframe tbody tr th {\n",
       "        vertical-align: top;\n",
       "    }\n",
       "\n",
       "    .dataframe thead th {\n",
       "        text-align: right;\n",
       "    }\n",
       "</style>\n",
       "<table border=\"1\" class=\"dataframe\">\n",
       "  <thead>\n",
       "    <tr style=\"text-align: right;\">\n",
       "      <th></th>\n",
       "      <th>ID</th>\n",
       "      <th>Name</th>\n",
       "      <th>Sex</th>\n",
       "      <th>Age</th>\n",
       "      <th>Height</th>\n",
       "      <th>Weight</th>\n",
       "      <th>Team</th>\n",
       "      <th>NOC</th>\n",
       "      <th>Games</th>\n",
       "      <th>Year</th>\n",
       "      <th>Season</th>\n",
       "      <th>City</th>\n",
       "      <th>Sport</th>\n",
       "      <th>Event</th>\n",
       "      <th>Medal</th>\n",
       "    </tr>\n",
       "  </thead>\n",
       "  <tbody>\n",
       "    <tr>\n",
       "      <th>0</th>\n",
       "      <td>107506</td>\n",
       "      <td>Hermann Schreiber</td>\n",
       "      <td>M</td>\n",
       "      <td>26.0</td>\n",
       "      <td>NaN</td>\n",
       "      <td>NaN</td>\n",
       "      <td>Switzerland</td>\n",
       "      <td>SUI</td>\n",
       "      <td>1936 Summer</td>\n",
       "      <td>1936</td>\n",
       "      <td>Summer</td>\n",
       "      <td>Berlin</td>\n",
       "      <td>Aeronautics</td>\n",
       "      <td>Aeronautics Mixed Aeronautics</td>\n",
       "      <td>Gold</td>\n",
       "    </tr>\n",
       "    <tr>\n",
       "      <th>1</th>\n",
       "      <td>20</td>\n",
       "      <td>Kjetil Andr Aamodt</td>\n",
       "      <td>M</td>\n",
       "      <td>22.0</td>\n",
       "      <td>176.0</td>\n",
       "      <td>85.0</td>\n",
       "      <td>Norway</td>\n",
       "      <td>NOR</td>\n",
       "      <td>1994 Winter</td>\n",
       "      <td>1994</td>\n",
       "      <td>Winter</td>\n",
       "      <td>Lillehammer</td>\n",
       "      <td>Alpine Skiing</td>\n",
       "      <td>Alpine Skiing Men's Combined</td>\n",
       "      <td>Silver</td>\n",
       "    </tr>\n",
       "    <tr>\n",
       "      <th>2</th>\n",
       "      <td>20</td>\n",
       "      <td>Kjetil Andr Aamodt</td>\n",
       "      <td>M</td>\n",
       "      <td>26.0</td>\n",
       "      <td>176.0</td>\n",
       "      <td>85.0</td>\n",
       "      <td>Norway</td>\n",
       "      <td>NOR</td>\n",
       "      <td>1998 Winter</td>\n",
       "      <td>1998</td>\n",
       "      <td>Winter</td>\n",
       "      <td>Nagano</td>\n",
       "      <td>Alpine Skiing</td>\n",
       "      <td>Alpine Skiing Men's Combined</td>\n",
       "      <td>NaN</td>\n",
       "    </tr>\n",
       "    <tr>\n",
       "      <th>3</th>\n",
       "      <td>20</td>\n",
       "      <td>Kjetil Andr Aamodt</td>\n",
       "      <td>M</td>\n",
       "      <td>30.0</td>\n",
       "      <td>176.0</td>\n",
       "      <td>85.0</td>\n",
       "      <td>Norway</td>\n",
       "      <td>NOR</td>\n",
       "      <td>2002 Winter</td>\n",
       "      <td>2002</td>\n",
       "      <td>Winter</td>\n",
       "      <td>Salt Lake City</td>\n",
       "      <td>Alpine Skiing</td>\n",
       "      <td>Alpine Skiing Men's Combined</td>\n",
       "      <td>Gold</td>\n",
       "    </tr>\n",
       "    <tr>\n",
       "      <th>4</th>\n",
       "      <td>634</td>\n",
       "      <td>Paul Accola</td>\n",
       "      <td>M</td>\n",
       "      <td>20.0</td>\n",
       "      <td>176.0</td>\n",
       "      <td>82.0</td>\n",
       "      <td>Switzerland</td>\n",
       "      <td>SUI</td>\n",
       "      <td>1988 Winter</td>\n",
       "      <td>1988</td>\n",
       "      <td>Winter</td>\n",
       "      <td>Calgary</td>\n",
       "      <td>Alpine Skiing</td>\n",
       "      <td>Alpine Skiing Men's Combined</td>\n",
       "      <td>Bronze</td>\n",
       "    </tr>\n",
       "  </tbody>\n",
       "</table>\n",
       "</div>"
      ],
      "text/plain": [
       "       ID                Name Sex   Age  Height  Weight         Team  NOC  \\\n",
       "0  107506   Hermann Schreiber   M  26.0     NaN     NaN  Switzerland  SUI   \n",
       "1      20  Kjetil Andr Aamodt   M  22.0   176.0    85.0       Norway  NOR   \n",
       "2      20  Kjetil Andr Aamodt   M  26.0   176.0    85.0       Norway  NOR   \n",
       "3      20  Kjetil Andr Aamodt   M  30.0   176.0    85.0       Norway  NOR   \n",
       "4     634         Paul Accola   M  20.0   176.0    82.0  Switzerland  SUI   \n",
       "\n",
       "         Games  Year  Season            City          Sport  \\\n",
       "0  1936 Summer  1936  Summer          Berlin    Aeronautics   \n",
       "1  1994 Winter  1994  Winter     Lillehammer  Alpine Skiing   \n",
       "2  1998 Winter  1998  Winter          Nagano  Alpine Skiing   \n",
       "3  2002 Winter  2002  Winter  Salt Lake City  Alpine Skiing   \n",
       "4  1988 Winter  1988  Winter         Calgary  Alpine Skiing   \n",
       "\n",
       "                           Event   Medal  \n",
       "0  Aeronautics Mixed Aeronautics    Gold  \n",
       "1   Alpine Skiing Men's Combined  Silver  \n",
       "2   Alpine Skiing Men's Combined     NaN  \n",
       "3   Alpine Skiing Men's Combined    Gold  \n",
       "4   Alpine Skiing Men's Combined  Bronze  "
      ]
     },
     "execution_count": 1,
     "metadata": {},
     "output_type": "execute_result"
    }
   ],
   "source": [
    "# Dependencies and Setup\n",
    "import matplotlib.pyplot as plt\n",
    "import pandas as pd\n",
    "import numpy as np\n",
    "#import seaborn as sn\n",
    "\n",
    "# File to Load (Remember to Change These)\n",
    "\n",
    "file_to_load  = \"C:/Users/admin/Documents/SMU/Olympic_Athletes/olympic_data.csv\"\n",
    "\n",
    "# Read the City and Ride Data\n",
    "\n",
    "# Read Purchasing File and store into Pandas data frame\n",
    "olympics = pd.read_csv(file_to_load )\n",
    "olympics.head()"
   ]
  },
  {
   "cell_type": "code",
   "execution_count": 2,
   "metadata": {},
   "outputs": [],
   "source": [
    "# Created a new column to filter data\n",
    "#olympics[\"Winner/Loser\"] = olympics[\"Medal\"].replace({\"Gold\":\"Winner\", \"Silver\":\"Loser\", \"Bronze\":\"Loser\", \"NaN\":\"Loser\"})\n",
    "#olympics.head()"
   ]
  },
  {
   "cell_type": "code",
   "execution_count": 3,
   "metadata": {},
   "outputs": [
    {
     "data": {
      "text/html": [
       "<div>\n",
       "<style scoped>\n",
       "    .dataframe tbody tr th:only-of-type {\n",
       "        vertical-align: middle;\n",
       "    }\n",
       "\n",
       "    .dataframe tbody tr th {\n",
       "        vertical-align: top;\n",
       "    }\n",
       "\n",
       "    .dataframe thead th {\n",
       "        text-align: right;\n",
       "    }\n",
       "</style>\n",
       "<table border=\"1\" class=\"dataframe\">\n",
       "  <thead>\n",
       "    <tr style=\"text-align: right;\">\n",
       "      <th></th>\n",
       "      <th>ID</th>\n",
       "      <th>Name</th>\n",
       "      <th>NOC</th>\n",
       "      <th>Sex</th>\n",
       "      <th>Sport</th>\n",
       "      <th>Age</th>\n",
       "      <th>Height</th>\n",
       "      <th>Weight</th>\n",
       "      <th>Medal</th>\n",
       "    </tr>\n",
       "  </thead>\n",
       "  <tbody>\n",
       "    <tr>\n",
       "      <th>0</th>\n",
       "      <td>107506</td>\n",
       "      <td>Hermann Schreiber</td>\n",
       "      <td>SUI</td>\n",
       "      <td>M</td>\n",
       "      <td>Aeronautics</td>\n",
       "      <td>26.0</td>\n",
       "      <td>NaN</td>\n",
       "      <td>NaN</td>\n",
       "      <td>Gold</td>\n",
       "    </tr>\n",
       "    <tr>\n",
       "      <th>1</th>\n",
       "      <td>20</td>\n",
       "      <td>Kjetil Andr Aamodt</td>\n",
       "      <td>NOR</td>\n",
       "      <td>M</td>\n",
       "      <td>Alpine Skiing</td>\n",
       "      <td>22.0</td>\n",
       "      <td>176.0</td>\n",
       "      <td>85.0</td>\n",
       "      <td>Silver</td>\n",
       "    </tr>\n",
       "    <tr>\n",
       "      <th>2</th>\n",
       "      <td>20</td>\n",
       "      <td>Kjetil Andr Aamodt</td>\n",
       "      <td>NOR</td>\n",
       "      <td>M</td>\n",
       "      <td>Alpine Skiing</td>\n",
       "      <td>26.0</td>\n",
       "      <td>176.0</td>\n",
       "      <td>85.0</td>\n",
       "      <td>NaN</td>\n",
       "    </tr>\n",
       "    <tr>\n",
       "      <th>3</th>\n",
       "      <td>20</td>\n",
       "      <td>Kjetil Andr Aamodt</td>\n",
       "      <td>NOR</td>\n",
       "      <td>M</td>\n",
       "      <td>Alpine Skiing</td>\n",
       "      <td>30.0</td>\n",
       "      <td>176.0</td>\n",
       "      <td>85.0</td>\n",
       "      <td>Gold</td>\n",
       "    </tr>\n",
       "    <tr>\n",
       "      <th>4</th>\n",
       "      <td>634</td>\n",
       "      <td>Paul Accola</td>\n",
       "      <td>SUI</td>\n",
       "      <td>M</td>\n",
       "      <td>Alpine Skiing</td>\n",
       "      <td>20.0</td>\n",
       "      <td>176.0</td>\n",
       "      <td>82.0</td>\n",
       "      <td>Bronze</td>\n",
       "    </tr>\n",
       "  </tbody>\n",
       "</table>\n",
       "</div>"
      ],
      "text/plain": [
       "       ID                Name  NOC Sex          Sport   Age  Height  Weight  \\\n",
       "0  107506   Hermann Schreiber  SUI   M    Aeronautics  26.0     NaN     NaN   \n",
       "1      20  Kjetil Andr Aamodt  NOR   M  Alpine Skiing  22.0   176.0    85.0   \n",
       "2      20  Kjetil Andr Aamodt  NOR   M  Alpine Skiing  26.0   176.0    85.0   \n",
       "3      20  Kjetil Andr Aamodt  NOR   M  Alpine Skiing  30.0   176.0    85.0   \n",
       "4     634         Paul Accola  SUI   M  Alpine Skiing  20.0   176.0    82.0   \n",
       "\n",
       "    Medal  \n",
       "0    Gold  \n",
       "1  Silver  \n",
       "2     NaN  \n",
       "3    Gold  \n",
       "4  Bronze  "
      ]
     },
     "execution_count": 3,
     "metadata": {},
     "output_type": "execute_result"
    }
   ],
   "source": [
    "# Selecting the columns that are needed for the analysis\n",
    "bio_event_medal_df= olympics.loc[:, [ \"ID\",\"Name\",\"NOC\",\"Sex\", \"Sport\", \"Age\", \"Height\", \"Weight\", \"Medal\"]]\n",
    "\n",
    "bio_event_medal_df.head()"
   ]
  },
  {
   "cell_type": "code",
   "execution_count": 4,
   "metadata": {},
   "outputs": [
    {
     "data": {
      "text/html": [
       "<div>\n",
       "<style scoped>\n",
       "    .dataframe tbody tr th:only-of-type {\n",
       "        vertical-align: middle;\n",
       "    }\n",
       "\n",
       "    .dataframe tbody tr th {\n",
       "        vertical-align: top;\n",
       "    }\n",
       "\n",
       "    .dataframe thead th {\n",
       "        text-align: right;\n",
       "    }\n",
       "</style>\n",
       "<table border=\"1\" class=\"dataframe\">\n",
       "  <thead>\n",
       "    <tr style=\"text-align: right;\">\n",
       "      <th></th>\n",
       "      <th>ACount</th>\n",
       "      <th>AAge</th>\n",
       "      <th>AHeight</th>\n",
       "      <th>AWeight</th>\n",
       "    </tr>\n",
       "    <tr>\n",
       "      <th>NOC</th>\n",
       "      <th></th>\n",
       "      <th></th>\n",
       "      <th></th>\n",
       "      <th></th>\n",
       "    </tr>\n",
       "  </thead>\n",
       "  <tbody>\n",
       "    <tr>\n",
       "      <th>ALG</th>\n",
       "      <td>20</td>\n",
       "      <td>24.250000</td>\n",
       "      <td>169.950000</td>\n",
       "      <td>59.100000</td>\n",
       "    </tr>\n",
       "    <tr>\n",
       "      <th>ARG</th>\n",
       "      <td>100</td>\n",
       "      <td>23.507246</td>\n",
       "      <td>167.333333</td>\n",
       "      <td>66.583333</td>\n",
       "    </tr>\n",
       "    <tr>\n",
       "      <th>ARM</th>\n",
       "      <td>16</td>\n",
       "      <td>20.875000</td>\n",
       "      <td>163.375000</td>\n",
       "      <td>58.687500</td>\n",
       "    </tr>\n",
       "    <tr>\n",
       "      <th>AUS</th>\n",
       "      <td>224</td>\n",
       "      <td>22.980000</td>\n",
       "      <td>168.663043</td>\n",
       "      <td>66.522472</td>\n",
       "    </tr>\n",
       "    <tr>\n",
       "      <th>AUT</th>\n",
       "      <td>252</td>\n",
       "      <td>28.190476</td>\n",
       "      <td>169.777778</td>\n",
       "      <td>71.142857</td>\n",
       "    </tr>\n",
       "  </tbody>\n",
       "</table>\n",
       "</div>"
      ],
      "text/plain": [
       "     ACount       AAge     AHeight    AWeight\n",
       "NOC                                          \n",
       "ALG      20  24.250000  169.950000  59.100000\n",
       "ARG     100  23.507246  167.333333  66.583333\n",
       "ARM      16  20.875000  163.375000  58.687500\n",
       "AUS     224  22.980000  168.663043  66.522472\n",
       "AUT     252  28.190476  169.777778  71.142857"
      ]
     },
     "execution_count": 4,
     "metadata": {},
     "output_type": "execute_result"
    }
   ],
   "source": [
    "# Create data series of ALL male gymnatics using multipe using conditionals (such as Medal, Sex and Sport)\n",
    "MaleGymnast_df =bio_event_medal_df[((bio_event_medal_df[\"Sport\"]==\"Gymnastics\" ) & (bio_event_medal_df[\"Sex\"]==\"M\" ))]\n",
    "count = MaleGymnast_df.groupby(\"NOC\")[\"ID\"].count()\n",
    "AgeAverage = MaleGymnast_df.groupby([\"NOC\"]).mean()[\"Age\"].rename(\"Age by NOC\")\n",
    "WeightAverage = MaleGymnast_df.groupby([\"NOC\"]).mean()[\"Weight\"].rename(\"Weight by NOC\")\n",
    "HeightAverage = MaleGymnast_df.groupby([\"NOC\"]).mean()[\"Height\"].rename(\"Height by NOC\")\n",
    "\n",
    "AYearTrend_df = pd.DataFrame({\"ACount\":count,\"AAge\":AgeAverage, \"AHeight\":HeightAverage, \"AWeight\":WeightAverage})\n",
    "\n",
    "#AYearTrend_df[\"AHeight\"]=AYearTrend_df[\"AHeight\"].map(\"{:.0f}\".format)\n",
    "#AYearTrend_df[\"AWeight\"]=AYearTrend_df[\"AWeight\"].map(\"{:.0f}\".format)\n",
    "\n",
    "AYearTrend_df.head()"
   ]
  },
  {
   "cell_type": "code",
   "execution_count": 5,
   "metadata": {},
   "outputs": [
    {
     "data": {
      "text/html": [
       "<div>\n",
       "<style scoped>\n",
       "    .dataframe tbody tr th:only-of-type {\n",
       "        vertical-align: middle;\n",
       "    }\n",
       "\n",
       "    .dataframe tbody tr th {\n",
       "        vertical-align: top;\n",
       "    }\n",
       "\n",
       "    .dataframe thead th {\n",
       "        text-align: right;\n",
       "    }\n",
       "</style>\n",
       "<table border=\"1\" class=\"dataframe\">\n",
       "  <thead>\n",
       "    <tr style=\"text-align: right;\">\n",
       "      <th></th>\n",
       "      <th>GCount</th>\n",
       "      <th>GAge</th>\n",
       "      <th>GHeight</th>\n",
       "      <th>GWeight</th>\n",
       "    </tr>\n",
       "    <tr>\n",
       "      <th>NOC</th>\n",
       "      <th></th>\n",
       "      <th></th>\n",
       "      <th></th>\n",
       "      <th></th>\n",
       "    </tr>\n",
       "  </thead>\n",
       "  <tbody>\n",
       "    <tr>\n",
       "      <th>AUT</th>\n",
       "      <td>2</td>\n",
       "      <td>28.000000</td>\n",
       "      <td>168.000000</td>\n",
       "      <td>NaN</td>\n",
       "    </tr>\n",
       "    <tr>\n",
       "      <th>BRA</th>\n",
       "      <td>1</td>\n",
       "      <td>22.000000</td>\n",
       "      <td>156.000000</td>\n",
       "      <td>61.000000</td>\n",
       "    </tr>\n",
       "    <tr>\n",
       "      <th>BUL</th>\n",
       "      <td>2</td>\n",
       "      <td>20.000000</td>\n",
       "      <td>164.000000</td>\n",
       "      <td>57.000000</td>\n",
       "    </tr>\n",
       "    <tr>\n",
       "      <th>CAN</th>\n",
       "      <td>1</td>\n",
       "      <td>22.000000</td>\n",
       "      <td>164.000000</td>\n",
       "      <td>61.000000</td>\n",
       "    </tr>\n",
       "    <tr>\n",
       "      <th>CHN</th>\n",
       "      <td>34</td>\n",
       "      <td>22.470588</td>\n",
       "      <td>160.911765</td>\n",
       "      <td>55.676471</td>\n",
       "    </tr>\n",
       "  </tbody>\n",
       "</table>\n",
       "</div>"
      ],
      "text/plain": [
       "     GCount       GAge     GHeight    GWeight\n",
       "NOC                                          \n",
       "AUT       2  28.000000  168.000000        NaN\n",
       "BRA       1  22.000000  156.000000  61.000000\n",
       "BUL       2  20.000000  164.000000  57.000000\n",
       "CAN       1  22.000000  164.000000  61.000000\n",
       "CHN      34  22.470588  160.911765  55.676471"
      ]
     },
     "execution_count": 5,
     "metadata": {},
     "output_type": "execute_result"
    }
   ],
   "source": [
    "# Create data series of GOLD male gymnatics using multipe using conditionals (such as Medal, Sex and Sport)\n",
    "GoldGymnast_df =bio_event_medal_df[((bio_event_medal_df['Medal']==\"Gold\") & (bio_event_medal_df[\"Sport\"]==\"Gymnastics\")\n",
    "                                    & (bio_event_medal_df[\"Sex\"]==\"M\" ))]\n",
    "\n",
    "Gcount = GoldGymnast_df.groupby(\"NOC\")[\"ID\"].count()\n",
    "GAgeAverage = GoldGymnast_df.groupby([\"NOC\"]).mean()[\"Age\"].rename(\"Age by NOC\")\n",
    "GWeightAverage = GoldGymnast_df.groupby([\"NOC\"]).mean()[\"Weight\"].rename(\"Weight by NOC\")\n",
    "GHeightAverage = GoldGymnast_df.groupby([\"NOC\"]).mean()[\"Height\"].rename(\"Height by NOC\")\n",
    "\n",
    "GYearTrend_df = pd.DataFrame({\"GCount\":Gcount,\"GAge\":GAgeAverage, \"GHeight\":GHeightAverage, \"GWeight\":GWeightAverage})\n",
    "\n",
    "#GYearTrend_df[\"GHeight\"]=GYearTrend_df[\"GHeight\"].map(\"{:.0f}\".format)\n",
    "#GYearTrend_df[\"GWeight\"]=GYearTrend_df[\"GWeight\"].map(\"{:.0f}\".format)\n",
    "\n",
    "\n",
    "GYearTrend_df.head()"
   ]
  },
  {
   "cell_type": "code",
   "execution_count": 6,
   "metadata": {},
   "outputs": [
    {
     "data": {
      "image/png": "[encoded data removed]",
      "text/plain": [
       "<Figure size 432x288 with 1 Axes>"
      ]
     },
     "metadata": {
      "needs_background": "light"
     },
     "output_type": "display_data"
    }
   ],
   "source": [
    "ax = GYearTrend_df.reset_index().plot(kind='scatter', x='GCount', y='GAge',     \n",
    "                                      color='blue', s=70, label='Age')\n",
    "\n",
    "# Incorporate the other graph properties\n",
    "plt.title(\"Gold Metal Gymnastics vs. Age\")\n",
    "plt.ylabel(\"Age (#)\")\n",
    "plt.xlabel(\"# Athlete\")\n",
    "plt.legend()\n",
    "#plt.grid(True)\n",
    "\n",
    "# Save the figure\n",
    "plt.savefig(\"C:/Users/admin/Documents/SMU/Olympic_Athletes/Gymnastics_Age\")\n",
    "\n",
    "# Show plot\n",
    "plt.show()\n"
   ]
  },
  {
   "cell_type": "code",
   "execution_count": 7,
   "metadata": {},
   "outputs": [
    {
     "data": {
      "image/png": "[encoded data removed]",
      "text/plain": [
       "<Figure size 432x288 with 1 Axes>"
      ]
     },
     "metadata": {
      "needs_background": "light"
     },
     "output_type": "display_data"
    }
   ],
   "source": [
    "# Build scatter plot for athetics \n",
    "ax = GYearTrend_df.reset_index().plot(kind='scatter', x='GCount', y='GWeight',     \n",
    "                                      color='blue', s=70, label='Age')\n",
    "\n",
    "# Incorporate the other graph properties\n",
    "plt.title(\"Gold Metal Gymnastics vs. Height\")\n",
    "plt.ylabel(\"Height (cm)\")\n",
    "plt.xlabel(\"# Athlete\")\n",
    "plt.legend()\n",
    "#plt.grid(True)\n",
    "\n",
    "# Save the figure\n",
    "plt.savefig(\"C:/Users/admin/Documents/SMU/Olympic_Athletes/Gymnastics_Height\")\n",
    "\n",
    "# Show plot\n",
    "plt.show()"
   ]
  },
  {
   "cell_type": "code",
   "execution_count": 8,
   "metadata": {},
   "outputs": [
    {
     "data": {
      "image/png": "[encoded data removed]",
      "text/plain": [
       "<Figure size 432x288 with 1 Axes>"
      ]
     },
     "metadata": {
      "needs_background": "light"
     },
     "output_type": "display_data"
    }
   ],
   "source": [
    "ax = GYearTrend_df.reset_index().plot(kind='scatter', x='GCount', y='GWeight',\n",
    "                                           color='blue',  s=70, label='Weight')\n",
    "# Incorporate the other graph properties\n",
    "plt.title(\"Gold Metal Gymnastics vs. Weight\")\n",
    "plt.ylabel(\"Weight (kg)\")\n",
    "plt.xlabel(\"# Athlete\")\n",
    "plt.legend()\n",
    "#plt.grid(True)\n",
    "\n",
    "# Save the figure\n",
    "plt.savefig(\"C:/Users/admin/Documents/SMU/Olympic_Athletes/Gymnastics_Weight\")\n",
    "\n",
    "# Show plot\n",
    "plt.show()"
   ]
  },
  {
   "cell_type": "code",
   "execution_count": 9,
   "metadata": {},
   "outputs": [
    {
     "data": {
      "image/png": "[encoded data removed]",
      "text/plain": [
       "<Figure size 432x288 with 1 Axes>"
      ]
     },
     "metadata": {
      "needs_background": "light"
     },
     "output_type": "display_data"
    }
   ],
   "source": [
    "ax = AYearTrend_df.reset_index().plot(kind='scatter', x='ACount', y='AAge',\n",
    "                                           color='Red', label='All Age')\n",
    "\n",
    "GYearTrend_df.reset_index().plot(kind='scatter', x='GCount', y='GAge',\n",
    "                                          color='Blue', label='Gold Age', ax=ax)\n",
    "# Incorporate the other graph properties\n",
    "plt.title(\"Gymnastics Combine - Age\")\n",
    "plt.ylabel(\"Age\")\n",
    "plt.xlabel(\"# Athlete\")\n",
    "plt.legend()\n",
    "#plt.grid(True)\n",
    "\n",
    "# Save the figure\n",
    "plt.savefig(\"C:/Users/admin/Documents/SMU/Olympic_Athletes/Gymnastic_CombineAge\")\n",
    "\n",
    "# Show plot\n",
    "plt.show('upper right')"
   ]
  },
  {
   "cell_type": "code",
   "execution_count": 10,
   "metadata": {},
   "outputs": [
    {
     "data": {
      "image/png": "[encoded data removed]",
      "text/plain": [
       "<Figure size 432x288 with 1 Axes>"
      ]
     },
     "metadata": {
      "needs_background": "light"
     },
     "output_type": "display_data"
    }
   ],
   "source": [
    "ax = AYearTrend_df.reset_index().plot(kind='scatter', x='ACount', y='AHeight', \n",
    "                                           color='Red', label='All Height')\n",
    "\n",
    "GYearTrend_df.reset_index().plot(kind='scatter', x='GCount', y='GHeight',\n",
    "                                          color='Blue', label='Gold Height', ax=ax)\n",
    "# Incorporate the other graph properties\n",
    "plt.title(\"Gymnastics Combine - Height\")\n",
    "plt.ylabel(\"Height (cm)\")\n",
    "plt.xlabel(\"# Athlete\")\n",
    "plt.legend()\n",
    "#plt.grid(True)\n",
    "\n",
    "# Save the figure\n",
    "plt.savefig(\"C:/Users/admin/Documents/SMU/Olympic_Athletes/Gymnastic_CombineHeight\")\n",
    "\n",
    "# Show plot\n",
    "plt.show('upper right')"
   ]
  },
  {
   "cell_type": "code",
   "execution_count": 11,
   "metadata": {},
   "outputs": [
    {
     "data": {
      "image/png": "[encoded data removed]",
      "text/plain": [
       "<Figure size 432x288 with 1 Axes>"
      ]
     },
     "metadata": {
      "needs_background": "light"
     },
     "output_type": "display_data"
    }
   ],
   "source": [
    "ax = AYearTrend_df.reset_index().plot(kind='scatter', x='ACount', y='AWeight', \n",
    "                                           color='Red', label='All Weight')\n",
    "\n",
    "GYearTrend_df.reset_index().plot(kind='scatter', x='GCount', y='GWeight',\n",
    "                                          color='Blue', label='Gold Weight', ax=ax)\n",
    "\n",
    "# Incorporate the other graph properties\n",
    "plt.title(\"Gymnastics Combine - Weight\")\n",
    "plt.ylabel(\"Weight (kg)\")\n",
    "plt.xlabel(\"# Athlete\")\n",
    "plt.legend()\n",
    "#plt.grid(True)\n",
    "\n",
    "# Save the figure\n",
    "plt.savefig(\"C:/Users/admin/Documents/SMU/Olympic_Athletes/Gymnastic_CombineWeight\")\n",
    "\n",
    "# Show plot\n",
    "plt.show('upper right')\n",
    "\n"
   ]
  },
  {
   "cell_type": "code",
   "execution_count": 12,
   "metadata": {},
   "outputs": [
    {
     "data": {
      "text/html": [
       "<div>\n",
       "<style scoped>\n",
       "    .dataframe tbody tr th:only-of-type {\n",
       "        vertical-align: middle;\n",
       "    }\n",
       "\n",
       "    .dataframe tbody tr th {\n",
       "        vertical-align: top;\n",
       "    }\n",
       "\n",
       "    .dataframe thead th {\n",
       "        text-align: right;\n",
       "    }\n",
       "</style>\n",
       "<table border=\"1\" class=\"dataframe\">\n",
       "  <thead>\n",
       "    <tr style=\"text-align: right;\">\n",
       "      <th></th>\n",
       "      <th>Number of gymnatics</th>\n",
       "      <th>Average Age</th>\n",
       "      <th>Average Height</th>\n",
       "      <th>Average Weight</th>\n",
       "    </tr>\n",
       "  </thead>\n",
       "  <tbody>\n",
       "    <tr>\n",
       "      <th>0</th>\n",
       "      <td>294</td>\n",
       "      <td>23.856049</td>\n",
       "      <td>166.022971</td>\n",
       "      <td>61.853752</td>\n",
       "    </tr>\n",
       "  </tbody>\n",
       "</table>\n",
       "</div>"
      ],
      "text/plain": [
       "   Number of gymnatics  Average Age  Average Height  Average Weight\n",
       "0                  294    23.856049      166.022971       61.853752"
      ]
     },
     "execution_count": 12,
     "metadata": {},
     "output_type": "execute_result"
    }
   ],
   "source": [
    "# Create data series of ALL male gymnatics using multipe using conditionals (such as Medal, Sex and Sport)\n",
    "Gymn_all_df =olympics[((olympics[\"Sex\"]==\"M\") & (olympics[\"Sport\"]==\"Gymnastics\" ))]\n",
    "\n",
    "# Data Cleaning to remove missing/null values\n",
    "Gymn_all_df=Gymn_all_df.dropna(how=\"any\")\n",
    "\n",
    "# Calculate the averages using ALL gymnastics participants creating a filtered data frame\n",
    "gymnastics_cnt = len(Gymn_all_df['ID'].value_counts())\n",
    "#gymnastics_cnt = Gymn_all_df['ID'].nunique()\n",
    "avg_age=Gymn_all_df[\"Age\"].mean()\n",
    "\n",
    "avg_height=Gymn_all_df[\"Height\"].mean()\n",
    "\n",
    "avg_weight=Gymn_all_df[\"Weight\"].mean()\n",
    "\n",
    "# Creating DataFrame of ALL gymnastics participants\n",
    "olympic_dtframe=pd.DataFrame({\"Number of gymnatics\":[gymnastics_cnt],\"Average Age\":[avg_age],\n",
    "                              \"Average Height\":[avg_height],\"Average Weight\":[avg_weight]})\n",
    "\n",
    "olympic_dtframe.head()"
   ]
  },
  {
   "cell_type": "code",
   "execution_count": null,
   "metadata": {},
   "outputs": [],
   "source": [
    "Olympic_noc_df = pd.DataFrame(pd.pivot_table(olympics,index=[\"NOC\",\"Sex\"],values=[\"Age\",\"Height\",\"Weight\"],aggfunc=[np.mean,]))\n",
    "Olympic_noc_df.head()"
   ]
  },
  {
   "cell_type": "code",
   "execution_count": null,
   "metadata": {},
   "outputs": [],
   "source": [
    "Olympic_st_df = pd.DataFrame(pd.pivot_table(olympics,index=[\"Sport\"],values=[\"Age\",\"Height\",\"Weight\"],aggfunc=[np.mean,]))\n",
    "Olympic_st_df.head()"
   ]
  }
 ],
 "metadata": {
  "anaconda-cloud": {},
  "kernelspec": {
   "display_name": "Python 3",
   "language": "python",
   "name": "python3"
  },
  "language_info": {
   "codemirror_mode": {
    "name": "ipython",
    "version": 3
   },
   "file_extension": ".py",
   "mimetype": "text/x-python",
   "name": "python",
   "nbconvert_exporter": "python",
   "pygments_lexer": "ipython3",
   "version": "3.7.0"
  }
 },
 "nbformat": 4,
 "nbformat_minor": 2
}
